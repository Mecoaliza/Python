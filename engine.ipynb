{
 "cells": [
  {
   "cell_type": "code",
   "execution_count": 23,
   "metadata": {},
   "outputs": [
    {
     "name": "stdout",
     "output_type": "stream",
     "text": [
      "Requirement already satisfied: earthengine-api in c:\\users\\mecoa\\anaconda3\\lib\\site-packages (0.1.352)\n",
      "Requirement already satisfied: google-auth-httplib2>=0.0.3 in c:\\users\\mecoa\\anaconda3\\lib\\site-packages (from earthengine-api) (0.1.0)\n",
      "Requirement already satisfied: google-cloud-storage in c:\\users\\mecoa\\anaconda3\\lib\\site-packages (from earthengine-api) (2.9.0)\n",
      "Requirement already satisfied: requests in c:\\users\\mecoa\\anaconda3\\lib\\site-packages (from earthengine-api) (2.28.1)\n",
      "Requirement already satisfied: google-api-python-client>=1.12.1 in c:\\users\\mecoa\\anaconda3\\lib\\site-packages (from earthengine-api) (2.86.0)\n",
      "Requirement already satisfied: httplib2<1dev,>=0.9.2 in c:\\users\\mecoa\\anaconda3\\lib\\site-packages (from earthengine-api) (0.22.0)\n",
      "Requirement already satisfied: google-auth>=1.4.1 in c:\\users\\mecoa\\anaconda3\\lib\\site-packages (from earthengine-api) (2.17.3)\n",
      "Requirement already satisfied: uritemplate<5,>=3.0.1 in c:\\users\\mecoa\\anaconda3\\lib\\site-packages (from google-api-python-client>=1.12.1->earthengine-api) (4.1.1)\n",
      "Requirement already satisfied: google-api-core!=2.0.*,!=2.1.*,!=2.2.*,!=2.3.0,<3.0.0dev,>=1.31.5 in c:\\users\\mecoa\\anaconda3\\lib\\site-packages (from google-api-python-client>=1.12.1->earthengine-api) (2.11.0)\n",
      "Requirement already satisfied: six>=1.9.0 in c:\\users\\mecoa\\anaconda3\\lib\\site-packages (from google-auth>=1.4.1->earthengine-api) (1.16.0)\n",
      "Requirement already satisfied: cachetools<6.0,>=2.0.0 in c:\\users\\mecoa\\anaconda3\\lib\\site-packages (from google-auth>=1.4.1->earthengine-api) (5.3.0)\n",
      "Requirement already satisfied: rsa<5,>=3.1.4 in c:\\users\\mecoa\\anaconda3\\lib\\site-packages (from google-auth>=1.4.1->earthengine-api) (4.9)\n",
      "Requirement already satisfied: pyasn1-modules>=0.2.1 in c:\\users\\mecoa\\anaconda3\\lib\\site-packages (from google-auth>=1.4.1->earthengine-api) (0.2.8)\n",
      "Requirement already satisfied: pyparsing!=3.0.0,!=3.0.1,!=3.0.2,!=3.0.3,<4,>=2.4.2 in c:\\users\\mecoa\\anaconda3\\lib\\site-packages (from httplib2<1dev,>=0.9.2->earthengine-api) (3.0.9)\n",
      "Requirement already satisfied: google-resumable-media>=2.3.2 in c:\\users\\mecoa\\anaconda3\\lib\\site-packages (from google-cloud-storage->earthengine-api) (2.5.0)\n",
      "Requirement already satisfied: google-cloud-core<3.0dev,>=2.3.0 in c:\\users\\mecoa\\anaconda3\\lib\\site-packages (from google-cloud-storage->earthengine-api) (2.3.2)\n",
      "Requirement already satisfied: urllib3<1.27,>=1.21.1 in c:\\users\\mecoa\\anaconda3\\lib\\site-packages (from requests->earthengine-api) (1.26.11)\n",
      "Requirement already satisfied: certifi>=2017.4.17 in c:\\users\\mecoa\\anaconda3\\lib\\site-packages (from requests->earthengine-api) (2022.9.14)\n",
      "Requirement already satisfied: idna<4,>=2.5 in c:\\users\\mecoa\\anaconda3\\lib\\site-packages (from requests->earthengine-api) (3.3)\n",
      "Requirement already satisfied: charset-normalizer<3,>=2 in c:\\users\\mecoa\\anaconda3\\lib\\site-packages (from requests->earthengine-api) (2.0.4)\n",
      "Requirement already satisfied: protobuf!=3.20.0,!=3.20.1,!=4.21.0,!=4.21.1,!=4.21.2,!=4.21.3,!=4.21.4,!=4.21.5,<5.0.0dev,>=3.19.5 in c:\\users\\mecoa\\anaconda3\\lib\\site-packages (from google-api-core!=2.0.*,!=2.1.*,!=2.2.*,!=2.3.0,<3.0.0dev,>=1.31.5->google-api-python-client>=1.12.1->earthengine-api) (4.22.4)\n",
      "Requirement already satisfied: googleapis-common-protos<2.0dev,>=1.56.2 in c:\\users\\mecoa\\anaconda3\\lib\\site-packages (from google-api-core!=2.0.*,!=2.1.*,!=2.2.*,!=2.3.0,<3.0.0dev,>=1.31.5->google-api-python-client>=1.12.1->earthengine-api) (1.59.0)\n",
      "Requirement already satisfied: google-crc32c<2.0dev,>=1.0 in c:\\users\\mecoa\\anaconda3\\lib\\site-packages (from google-resumable-media>=2.3.2->google-cloud-storage->earthengine-api) (1.5.0)\n",
      "Requirement already satisfied: pyasn1<0.5.0,>=0.4.6 in c:\\users\\mecoa\\anaconda3\\lib\\site-packages (from pyasn1-modules>=0.2.1->google-auth>=1.4.1->earthengine-api) (0.4.8)\n",
      "Note: you may need to restart the kernel to use updated packages.\n"
     ]
    }
   ],
   "source": [
    "pip install earthengine-api\n"
   ]
  },
  {
   "cell_type": "code",
   "execution_count": 24,
   "metadata": {},
   "outputs": [
    {
     "name": "stdout",
     "output_type": "stream",
     "text": [
      "Requirement already satisfied: geemap in c:\\users\\mecoa\\anaconda3\\lib\\site-packages (0.20.6)\n",
      "Requirement already satisfied: folium>=0.13.0 in c:\\users\\mecoa\\anaconda3\\lib\\site-packages (from geemap) (0.14.0)\n",
      "Requirement already satisfied: matplotlib in c:\\users\\mecoa\\anaconda3\\lib\\site-packages (from geemap) (3.5.2)\n",
      "Requirement already satisfied: bqplot in c:\\users\\mecoa\\anaconda3\\lib\\site-packages (from geemap) (0.12.39)\n",
      "Requirement already satisfied: python-box in c:\\users\\mecoa\\anaconda3\\lib\\site-packages (from geemap) (7.0.1)\n",
      "Requirement already satisfied: plotly in c:\\users\\mecoa\\anaconda3\\lib\\site-packages (from geemap) (5.9.0)\n",
      "Requirement already satisfied: ipyleaflet>=0.17.0 in c:\\users\\mecoa\\anaconda3\\lib\\site-packages (from geemap) (0.17.2)\n",
      "Requirement already satisfied: earthengine-api>=0.1.347 in c:\\users\\mecoa\\anaconda3\\lib\\site-packages (from geemap) (0.1.352)\n",
      "Requirement already satisfied: scooby in c:\\users\\mecoa\\anaconda3\\lib\\site-packages (from geemap) (0.7.2)\n",
      "Requirement already satisfied: ipytree in c:\\users\\mecoa\\anaconda3\\lib\\site-packages (from geemap) (0.2.2)\n",
      "Requirement already satisfied: ipyfilechooser>=0.6.0 in c:\\users\\mecoa\\anaconda3\\lib\\site-packages (from geemap) (0.6.0)\n",
      "Requirement already satisfied: pandas in c:\\users\\mecoa\\anaconda3\\lib\\site-packages (from geemap) (1.4.4)\n",
      "Requirement already satisfied: colour in c:\\users\\mecoa\\anaconda3\\lib\\site-packages (from geemap) (0.1.5)\n",
      "Requirement already satisfied: pyperclip in c:\\users\\mecoa\\anaconda3\\lib\\site-packages (from geemap) (1.8.2)\n",
      "Requirement already satisfied: eerepr>=0.0.4 in c:\\users\\mecoa\\anaconda3\\lib\\site-packages (from geemap) (0.0.4)\n",
      "Requirement already satisfied: ipyevents in c:\\users\\mecoa\\anaconda3\\lib\\site-packages (from geemap) (2.0.1)\n",
      "Requirement already satisfied: geocoder in c:\\users\\mecoa\\anaconda3\\lib\\site-packages (from geemap) (1.38.1)\n",
      "Requirement already satisfied: numpy in c:\\users\\mecoa\\anaconda3\\lib\\site-packages (from geemap) (1.21.5)\n",
      "Requirement already satisfied: google-cloud-storage in c:\\users\\mecoa\\anaconda3\\lib\\site-packages (from earthengine-api>=0.1.347->geemap) (2.9.0)\n",
      "Requirement already satisfied: google-auth-httplib2>=0.0.3 in c:\\users\\mecoa\\anaconda3\\lib\\site-packages (from earthengine-api>=0.1.347->geemap) (0.1.0)\n",
      "Requirement already satisfied: google-auth>=1.4.1 in c:\\users\\mecoa\\anaconda3\\lib\\site-packages (from earthengine-api>=0.1.347->geemap) (2.17.3)\n",
      "Requirement already satisfied: google-api-python-client>=1.12.1 in c:\\users\\mecoa\\anaconda3\\lib\\site-packages (from earthengine-api>=0.1.347->geemap) (2.86.0)\n",
      "Requirement already satisfied: requests in c:\\users\\mecoa\\anaconda3\\lib\\site-packages (from earthengine-api>=0.1.347->geemap) (2.28.1)\n",
      "Requirement already satisfied: httplib2<1dev,>=0.9.2 in c:\\users\\mecoa\\anaconda3\\lib\\site-packages (from earthengine-api>=0.1.347->geemap) (0.22.0)\n",
      "Requirement already satisfied: branca>=0.6.0 in c:\\users\\mecoa\\anaconda3\\lib\\site-packages (from folium>=0.13.0->geemap) (0.6.0)\n",
      "Requirement already satisfied: jinja2>=2.9 in c:\\users\\mecoa\\anaconda3\\lib\\site-packages (from folium>=0.13.0->geemap) (2.11.3)\n",
      "Requirement already satisfied: ipywidgets in c:\\users\\mecoa\\anaconda3\\lib\\site-packages (from ipyfilechooser>=0.6.0->geemap) (7.6.5)\n",
      "Requirement already satisfied: traittypes<3,>=0.2.1 in c:\\users\\mecoa\\anaconda3\\lib\\site-packages (from ipyleaflet>=0.17.0->geemap) (0.2.1)\n",
      "Requirement already satisfied: xyzservices>=2021.8.1 in c:\\users\\mecoa\\anaconda3\\lib\\site-packages (from ipyleaflet>=0.17.0->geemap) (2023.2.0)\n",
      "Requirement already satisfied: traitlets>=4.3.0 in c:\\users\\mecoa\\anaconda3\\lib\\site-packages (from bqplot->geemap) (5.1.1)\n",
      "Requirement already satisfied: pytz>=2020.1 in c:\\users\\mecoa\\anaconda3\\lib\\site-packages (from pandas->geemap) (2022.1)\n",
      "Requirement already satisfied: python-dateutil>=2.8.1 in c:\\users\\mecoa\\anaconda3\\lib\\site-packages (from pandas->geemap) (2.8.2)\n",
      "Requirement already satisfied: click in c:\\users\\mecoa\\anaconda3\\lib\\site-packages (from geocoder->geemap) (8.0.4)\n",
      "Requirement already satisfied: six in c:\\users\\mecoa\\anaconda3\\lib\\site-packages (from geocoder->geemap) (1.16.0)\n",
      "Requirement already satisfied: ratelim in c:\\users\\mecoa\\anaconda3\\lib\\site-packages (from geocoder->geemap) (0.1.6)\n",
      "Requirement already satisfied: future in c:\\users\\mecoa\\anaconda3\\lib\\site-packages (from geocoder->geemap) (0.18.2)\n",
      "Requirement already satisfied: fonttools>=4.22.0 in c:\\users\\mecoa\\anaconda3\\lib\\site-packages (from matplotlib->geemap) (4.25.0)\n",
      "Requirement already satisfied: cycler>=0.10 in c:\\users\\mecoa\\anaconda3\\lib\\site-packages (from matplotlib->geemap) (0.11.0)\n",
      "Requirement already satisfied: pillow>=6.2.0 in c:\\users\\mecoa\\anaconda3\\lib\\site-packages (from matplotlib->geemap) (9.2.0)\n",
      "Requirement already satisfied: packaging>=20.0 in c:\\users\\mecoa\\anaconda3\\lib\\site-packages (from matplotlib->geemap) (21.3)\n",
      "Requirement already satisfied: pyparsing>=2.2.1 in c:\\users\\mecoa\\anaconda3\\lib\\site-packages (from matplotlib->geemap) (3.0.9)\n",
      "Requirement already satisfied: kiwisolver>=1.0.1 in c:\\users\\mecoa\\anaconda3\\lib\\site-packages (from matplotlib->geemap) (1.4.2)\n",
      "Requirement already satisfied: tenacity>=6.2.0 in c:\\users\\mecoa\\anaconda3\\lib\\site-packages (from plotly->geemap) (8.0.1)\n",
      "Requirement already satisfied: google-api-core!=2.0.*,!=2.1.*,!=2.2.*,!=2.3.0,<3.0.0dev,>=1.31.5 in c:\\users\\mecoa\\anaconda3\\lib\\site-packages (from google-api-python-client>=1.12.1->earthengine-api>=0.1.347->geemap) (2.11.0)\n",
      "Requirement already satisfied: uritemplate<5,>=3.0.1 in c:\\users\\mecoa\\anaconda3\\lib\\site-packages (from google-api-python-client>=1.12.1->earthengine-api>=0.1.347->geemap) (4.1.1)\n",
      "Requirement already satisfied: rsa<5,>=3.1.4 in c:\\users\\mecoa\\anaconda3\\lib\\site-packages (from google-auth>=1.4.1->earthengine-api>=0.1.347->geemap) (4.9)\n",
      "Requirement already satisfied: cachetools<6.0,>=2.0.0 in c:\\users\\mecoa\\anaconda3\\lib\\site-packages (from google-auth>=1.4.1->earthengine-api>=0.1.347->geemap) (5.3.0)\n",
      "Requirement already satisfied: pyasn1-modules>=0.2.1 in c:\\users\\mecoa\\anaconda3\\lib\\site-packages (from google-auth>=1.4.1->earthengine-api>=0.1.347->geemap) (0.2.8)\n",
      "Requirement already satisfied: nbformat>=4.2.0 in c:\\users\\mecoa\\anaconda3\\lib\\site-packages (from ipywidgets->ipyfilechooser>=0.6.0->geemap) (5.5.0)\n",
      "Requirement already satisfied: jupyterlab-widgets>=1.0.0 in c:\\users\\mecoa\\anaconda3\\lib\\site-packages (from ipywidgets->ipyfilechooser>=0.6.0->geemap) (1.0.0)\n",
      "Requirement already satisfied: ipython-genutils~=0.2.0 in c:\\users\\mecoa\\anaconda3\\lib\\site-packages (from ipywidgets->ipyfilechooser>=0.6.0->geemap) (0.2.0)\n",
      "Requirement already satisfied: ipykernel>=4.5.1 in c:\\users\\mecoa\\anaconda3\\lib\\site-packages (from ipywidgets->ipyfilechooser>=0.6.0->geemap) (6.15.2)\n",
      "Requirement already satisfied: widgetsnbextension~=3.5.0 in c:\\users\\mecoa\\anaconda3\\lib\\site-packages (from ipywidgets->ipyfilechooser>=0.6.0->geemap) (3.5.2)\n",
      "Requirement already satisfied: ipython>=4.0.0 in c:\\users\\mecoa\\anaconda3\\lib\\site-packages (from ipywidgets->ipyfilechooser>=0.6.0->geemap) (7.31.1)\n",
      "Requirement already satisfied: MarkupSafe>=0.23 in c:\\users\\mecoa\\anaconda3\\lib\\site-packages (from jinja2>=2.9->folium>=0.13.0->geemap) (2.0.1)\n",
      "Requirement already satisfied: colorama in c:\\users\\mecoa\\anaconda3\\lib\\site-packages (from click->geocoder->geemap) (0.4.5)\n",
      "Requirement already satisfied: google-resumable-media>=2.3.2 in c:\\users\\mecoa\\anaconda3\\lib\\site-packages (from google-cloud-storage->earthengine-api>=0.1.347->geemap) (2.5.0)\n",
      "Requirement already satisfied: google-cloud-core<3.0dev,>=2.3.0 in c:\\users\\mecoa\\anaconda3\\lib\\site-packages (from google-cloud-storage->earthengine-api>=0.1.347->geemap) (2.3.2)\n",
      "Requirement already satisfied: certifi>=2017.4.17 in c:\\users\\mecoa\\anaconda3\\lib\\site-packages (from requests->earthengine-api>=0.1.347->geemap) (2022.9.14)\n",
      "Requirement already satisfied: charset-normalizer<3,>=2 in c:\\users\\mecoa\\anaconda3\\lib\\site-packages (from requests->earthengine-api>=0.1.347->geemap) (2.0.4)\n",
      "Requirement already satisfied: idna<4,>=2.5 in c:\\users\\mecoa\\anaconda3\\lib\\site-packages (from requests->earthengine-api>=0.1.347->geemap) (3.3)\n",
      "Requirement already satisfied: urllib3<1.27,>=1.21.1 in c:\\users\\mecoa\\anaconda3\\lib\\site-packages (from requests->earthengine-api>=0.1.347->geemap) (1.26.11)\n",
      "Requirement already satisfied: decorator in c:\\users\\mecoa\\anaconda3\\lib\\site-packages (from ratelim->geocoder->geemap) (4.4.2)\n",
      "Requirement already satisfied: protobuf!=3.20.0,!=3.20.1,!=4.21.0,!=4.21.1,!=4.21.2,!=4.21.3,!=4.21.4,!=4.21.5,<5.0.0dev,>=3.19.5 in c:\\users\\mecoa\\anaconda3\\lib\\site-packages (from google-api-core!=2.0.*,!=2.1.*,!=2.2.*,!=2.3.0,<3.0.0dev,>=1.31.5->google-api-python-client>=1.12.1->earthengine-api>=0.1.347->geemap) (4.22.4)\n",
      "Requirement already satisfied: googleapis-common-protos<2.0dev,>=1.56.2 in c:\\users\\mecoa\\anaconda3\\lib\\site-packages (from google-api-core!=2.0.*,!=2.1.*,!=2.2.*,!=2.3.0,<3.0.0dev,>=1.31.5->google-api-python-client>=1.12.1->earthengine-api>=0.1.347->geemap) (1.59.0)\n",
      "Requirement already satisfied: google-crc32c<2.0dev,>=1.0 in c:\\users\\mecoa\\anaconda3\\lib\\site-packages (from google-resumable-media>=2.3.2->google-cloud-storage->earthengine-api>=0.1.347->geemap) (1.5.0)\n",
      "Requirement already satisfied: debugpy>=1.0 in c:\\users\\mecoa\\anaconda3\\lib\\site-packages (from ipykernel>=4.5.1->ipywidgets->ipyfilechooser>=0.6.0->geemap) (1.5.1)\n",
      "Requirement already satisfied: matplotlib-inline>=0.1 in c:\\users\\mecoa\\anaconda3\\lib\\site-packages (from ipykernel>=4.5.1->ipywidgets->ipyfilechooser>=0.6.0->geemap) (0.1.6)\n",
      "Requirement already satisfied: nest-asyncio in c:\\users\\mecoa\\anaconda3\\lib\\site-packages (from ipykernel>=4.5.1->ipywidgets->ipyfilechooser>=0.6.0->geemap) (1.5.5)\n",
      "Requirement already satisfied: psutil in c:\\users\\mecoa\\anaconda3\\lib\\site-packages (from ipykernel>=4.5.1->ipywidgets->ipyfilechooser>=0.6.0->geemap) (5.9.0)\n",
      "Requirement already satisfied: tornado>=6.1 in c:\\users\\mecoa\\anaconda3\\lib\\site-packages (from ipykernel>=4.5.1->ipywidgets->ipyfilechooser>=0.6.0->geemap) (6.1)\n",
      "Requirement already satisfied: pyzmq>=17 in c:\\users\\mecoa\\anaconda3\\lib\\site-packages (from ipykernel>=4.5.1->ipywidgets->ipyfilechooser>=0.6.0->geemap) (23.2.0)\n",
      "Requirement already satisfied: jupyter-client>=6.1.12 in c:\\users\\mecoa\\anaconda3\\lib\\site-packages (from ipykernel>=4.5.1->ipywidgets->ipyfilechooser>=0.6.0->geemap) (7.3.4)\n",
      "Requirement already satisfied: prompt-toolkit!=3.0.0,!=3.0.1,<3.1.0,>=2.0.0 in c:\\users\\mecoa\\anaconda3\\lib\\site-packages (from ipython>=4.0.0->ipywidgets->ipyfilechooser>=0.6.0->geemap) (3.0.20)\n",
      "Requirement already satisfied: pygments in c:\\users\\mecoa\\anaconda3\\lib\\site-packages (from ipython>=4.0.0->ipywidgets->ipyfilechooser>=0.6.0->geemap) (2.11.2)\n",
      "Requirement already satisfied: jedi>=0.16 in c:\\users\\mecoa\\anaconda3\\lib\\site-packages (from ipython>=4.0.0->ipywidgets->ipyfilechooser>=0.6.0->geemap) (0.18.1)\n",
      "Requirement already satisfied: backcall in c:\\users\\mecoa\\anaconda3\\lib\\site-packages (from ipython>=4.0.0->ipywidgets->ipyfilechooser>=0.6.0->geemap) (0.2.0)\n",
      "Requirement already satisfied: pickleshare in c:\\users\\mecoa\\anaconda3\\lib\\site-packages (from ipython>=4.0.0->ipywidgets->ipyfilechooser>=0.6.0->geemap) (0.7.5)\n",
      "Requirement already satisfied: setuptools>=18.5 in c:\\users\\mecoa\\anaconda3\\lib\\site-packages (from ipython>=4.0.0->ipywidgets->ipyfilechooser>=0.6.0->geemap) (63.4.1)\n",
      "Requirement already satisfied: jupyter_core in c:\\users\\mecoa\\anaconda3\\lib\\site-packages (from nbformat>=4.2.0->ipywidgets->ipyfilechooser>=0.6.0->geemap) (4.11.1)\n",
      "Requirement already satisfied: fastjsonschema in c:\\users\\mecoa\\anaconda3\\lib\\site-packages (from nbformat>=4.2.0->ipywidgets->ipyfilechooser>=0.6.0->geemap) (2.16.2)\n",
      "Requirement already satisfied: jsonschema>=2.6 in c:\\users\\mecoa\\anaconda3\\lib\\site-packages (from nbformat>=4.2.0->ipywidgets->ipyfilechooser>=0.6.0->geemap) (4.16.0)\n",
      "Requirement already satisfied: pyasn1<0.5.0,>=0.4.6 in c:\\users\\mecoa\\anaconda3\\lib\\site-packages (from pyasn1-modules>=0.2.1->google-auth>=1.4.1->earthengine-api>=0.1.347->geemap) (0.4.8)\n",
      "Requirement already satisfied: notebook>=4.4.1 in c:\\users\\mecoa\\anaconda3\\lib\\site-packages (from widgetsnbextension~=3.5.0->ipywidgets->ipyfilechooser>=0.6.0->geemap) (6.4.12)\n",
      "Requirement already satisfied: parso<0.9.0,>=0.8.0 in c:\\users\\mecoa\\anaconda3\\lib\\site-packages (from jedi>=0.16->ipython>=4.0.0->ipywidgets->ipyfilechooser>=0.6.0->geemap) (0.8.3)\n",
      "Requirement already satisfied: pyrsistent!=0.17.0,!=0.17.1,!=0.17.2,>=0.14.0 in c:\\users\\mecoa\\anaconda3\\lib\\site-packages (from jsonschema>=2.6->nbformat>=4.2.0->ipywidgets->ipyfilechooser>=0.6.0->geemap) (0.18.0)\n",
      "Requirement already satisfied: attrs>=17.4.0 in c:\\users\\mecoa\\anaconda3\\lib\\site-packages (from jsonschema>=2.6->nbformat>=4.2.0->ipywidgets->ipyfilechooser>=0.6.0->geemap) (21.4.0)\n",
      "Requirement already satisfied: entrypoints in c:\\users\\mecoa\\anaconda3\\lib\\site-packages (from jupyter-client>=6.1.12->ipykernel>=4.5.1->ipywidgets->ipyfilechooser>=0.6.0->geemap) (0.4)\n",
      "Requirement already satisfied: pywin32>=1.0 in c:\\users\\mecoa\\anaconda3\\lib\\site-packages (from jupyter_core->nbformat>=4.2.0->ipywidgets->ipyfilechooser>=0.6.0->geemap) (302)\n",
      "Requirement already satisfied: terminado>=0.8.3 in c:\\users\\mecoa\\anaconda3\\lib\\site-packages (from notebook>=4.4.1->widgetsnbextension~=3.5.0->ipywidgets->ipyfilechooser>=0.6.0->geemap) (0.13.1)\n",
      "Requirement already satisfied: nbconvert>=5 in c:\\users\\mecoa\\anaconda3\\lib\\site-packages (from notebook>=4.4.1->widgetsnbextension~=3.5.0->ipywidgets->ipyfilechooser>=0.6.0->geemap) (6.4.4)\n",
      "Requirement already satisfied: argon2-cffi in c:\\users\\mecoa\\anaconda3\\lib\\site-packages (from notebook>=4.4.1->widgetsnbextension~=3.5.0->ipywidgets->ipyfilechooser>=0.6.0->geemap) (21.3.0)\n",
      "Requirement already satisfied: prometheus-client in c:\\users\\mecoa\\anaconda3\\lib\\site-packages (from notebook>=4.4.1->widgetsnbextension~=3.5.0->ipywidgets->ipyfilechooser>=0.6.0->geemap) (0.14.1)\n",
      "Requirement already satisfied: Send2Trash>=1.8.0 in c:\\users\\mecoa\\anaconda3\\lib\\site-packages (from notebook>=4.4.1->widgetsnbextension~=3.5.0->ipywidgets->ipyfilechooser>=0.6.0->geemap) (1.8.0)\n",
      "Requirement already satisfied: wcwidth in c:\\users\\mecoa\\anaconda3\\lib\\site-packages (from prompt-toolkit!=3.0.0,!=3.0.1,<3.1.0,>=2.0.0->ipython>=4.0.0->ipywidgets->ipyfilechooser>=0.6.0->geemap) (0.2.5)\n",
      "Requirement already satisfied: testpath in c:\\users\\mecoa\\anaconda3\\lib\\site-packages (from nbconvert>=5->notebook>=4.4.1->widgetsnbextension~=3.5.0->ipywidgets->ipyfilechooser>=0.6.0->geemap) (0.6.0)\n",
      "Requirement already satisfied: jupyterlab-pygments in c:\\users\\mecoa\\anaconda3\\lib\\site-packages (from nbconvert>=5->notebook>=4.4.1->widgetsnbextension~=3.5.0->ipywidgets->ipyfilechooser>=0.6.0->geemap) (0.1.2)\n",
      "Requirement already satisfied: mistune<2,>=0.8.1 in c:\\users\\mecoa\\anaconda3\\lib\\site-packages (from nbconvert>=5->notebook>=4.4.1->widgetsnbextension~=3.5.0->ipywidgets->ipyfilechooser>=0.6.0->geemap) (0.8.4)\n",
      "Requirement already satisfied: bleach in c:\\users\\mecoa\\anaconda3\\lib\\site-packages (from nbconvert>=5->notebook>=4.4.1->widgetsnbextension~=3.5.0->ipywidgets->ipyfilechooser>=0.6.0->geemap) (4.1.0)\n",
      "Requirement already satisfied: nbclient<0.6.0,>=0.5.0 in c:\\users\\mecoa\\anaconda3\\lib\\site-packages (from nbconvert>=5->notebook>=4.4.1->widgetsnbextension~=3.5.0->ipywidgets->ipyfilechooser>=0.6.0->geemap) (0.5.13)\n",
      "Requirement already satisfied: pandocfilters>=1.4.1 in c:\\users\\mecoa\\anaconda3\\lib\\site-packages (from nbconvert>=5->notebook>=4.4.1->widgetsnbextension~=3.5.0->ipywidgets->ipyfilechooser>=0.6.0->geemap) (1.5.0)\n",
      "Requirement already satisfied: defusedxml in c:\\users\\mecoa\\anaconda3\\lib\\site-packages (from nbconvert>=5->notebook>=4.4.1->widgetsnbextension~=3.5.0->ipywidgets->ipyfilechooser>=0.6.0->geemap) (0.7.1)\n",
      "Requirement already satisfied: beautifulsoup4 in c:\\users\\mecoa\\anaconda3\\lib\\site-packages (from nbconvert>=5->notebook>=4.4.1->widgetsnbextension~=3.5.0->ipywidgets->ipyfilechooser>=0.6.0->geemap) (4.11.1)\n",
      "Requirement already satisfied: pywinpty>=1.1.0 in c:\\users\\mecoa\\anaconda3\\lib\\site-packages (from terminado>=0.8.3->notebook>=4.4.1->widgetsnbextension~=3.5.0->ipywidgets->ipyfilechooser>=0.6.0->geemap) (2.0.2)\n",
      "Requirement already satisfied: argon2-cffi-bindings in c:\\users\\mecoa\\anaconda3\\lib\\site-packages (from argon2-cffi->notebook>=4.4.1->widgetsnbextension~=3.5.0->ipywidgets->ipyfilechooser>=0.6.0->geemap) (21.2.0)\n",
      "Requirement already satisfied: cffi>=1.0.1 in c:\\users\\mecoa\\anaconda3\\lib\\site-packages (from argon2-cffi-bindings->argon2-cffi->notebook>=4.4.1->widgetsnbextension~=3.5.0->ipywidgets->ipyfilechooser>=0.6.0->geemap) (1.15.1)\n",
      "Requirement already satisfied: soupsieve>1.2 in c:\\users\\mecoa\\anaconda3\\lib\\site-packages (from beautifulsoup4->nbconvert>=5->notebook>=4.4.1->widgetsnbextension~=3.5.0->ipywidgets->ipyfilechooser>=0.6.0->geemap) (2.3.1)\n",
      "Requirement already satisfied: webencodings in c:\\users\\mecoa\\anaconda3\\lib\\site-packages (from bleach->nbconvert>=5->notebook>=4.4.1->widgetsnbextension~=3.5.0->ipywidgets->ipyfilechooser>=0.6.0->geemap) (0.5.1)\n",
      "Requirement already satisfied: pycparser in c:\\users\\mecoa\\anaconda3\\lib\\site-packages (from cffi>=1.0.1->argon2-cffi-bindings->argon2-cffi->notebook>=4.4.1->widgetsnbextension~=3.5.0->ipywidgets->ipyfilechooser>=0.6.0->geemap) (2.21)\n",
      "Note: you may need to restart the kernel to use updated packages.\n"
     ]
    }
   ],
   "source": [
    " pip install geemap"
   ]
  },
  {
   "cell_type": "code",
   "execution_count": 25,
   "metadata": {},
   "outputs": [],
   "source": [
    "import ee\n",
    "import geemap"
   ]
  },
  {
   "cell_type": "code",
   "execution_count": 26,
   "metadata": {},
   "outputs": [
    {
     "name": "stdout",
     "output_type": "stream",
     "text": [
      "Requirement already satisfied: wheel in c:\\users\\mecoa\\anaconda3\\lib\\site-packages (0.37.1)\n",
      "Note: you may need to restart the kernel to use updated packages.\n"
     ]
    }
   ],
   "source": [
    "pip install wheel \n"
   ]
  },
  {
   "cell_type": "code",
   "execution_count": 27,
   "metadata": {},
   "outputs": [
    {
     "name": "stdout",
     "output_type": "stream",
     "text": [
      "Note: you may need to restart the kernel to use updated packages.\n"
     ]
    },
    {
     "name": "stderr",
     "output_type": "stream",
     "text": [
      "ERROR: Invalid requirement: '#'\n"
     ]
    }
   ],
   "source": [
    "pip install ipykernel geemap ipyleaflet==0.16 # Not working with latest ipyleaflet\n"
   ]
  },
  {
   "cell_type": "code",
   "execution_count": 28,
   "metadata": {},
   "outputs": [
    {
     "data": {
      "text/html": [
       "<p>To authorize access needed by Earth Engine, open the following\n",
       "        URL in a web browser and follow the instructions:</p>\n",
       "        <p><a href=https://code.earthengine.google.com/client-auth?scopes=https%3A//www.googleapis.com/auth/earthengine%20https%3A//www.googleapis.com/auth/devstorage.full_control&request_id=h2dY3f1hekrWVNGAUXDpgfMtoBMoNBEiib1_lJa8oMs&tc=aWAxX_4CkvNtk1A6X-Fuy5MXXyJI9B0CBBcWzn5UOa0&cc=OA9qjDNMfX53JzwVW99v1AC5hTZtYMopx6mdkh9UkRY>https://code.earthengine.google.com/client-auth?scopes=https%3A//www.googleapis.com/auth/earthengine%20https%3A//www.googleapis.com/auth/devstorage.full_control&request_id=h2dY3f1hekrWVNGAUXDpgfMtoBMoNBEiib1_lJa8oMs&tc=aWAxX_4CkvNtk1A6X-Fuy5MXXyJI9B0CBBcWzn5UOa0&cc=OA9qjDNMfX53JzwVW99v1AC5hTZtYMopx6mdkh9UkRY</a></p>\n",
       "        <p>The authorization workflow will generate a code, which you should paste in the box below.</p>\n",
       "        "
      ],
      "text/plain": [
       "<IPython.core.display.HTML object>"
      ]
     },
     "metadata": {},
     "output_type": "display_data"
    },
    {
     "name": "stdout",
     "output_type": "stream",
     "text": [
      "\n",
      "Successfully saved authorization token.\n"
     ]
    }
   ],
   "source": [
    "ee.Authenticate()\n",
    "ee.Initialize()"
   ]
  },
  {
   "cell_type": "code",
   "execution_count": 29,
   "metadata": {},
   "outputs": [],
   "source": [
    "srtm = ee.Image(\"USGS/SRTMGL1_003\")"
   ]
  },
  {
   "cell_type": "code",
   "execution_count": 31,
   "metadata": {},
   "outputs": [
    {
     "data": {
      "application/vnd.jupyter.widget-view+json": {
       "model_id": "e256e972dcb042f191f61a908d1904e1",
       "version_major": 2,
       "version_minor": 0
      },
      "text/plain": [
       "Map(center=[20, 0], controls=(WidgetControl(options=['position', 'transparent_bg'], widget=HBox(children=(Togg…"
      ]
     },
     "metadata": {},
     "output_type": "display_data"
    }
   ],
   "source": [
    "Map = geemap.Map()\n",
    "Map.addLayer(srtm)\n",
    "Map"
   ]
  },
  {
   "attachments": {},
   "cell_type": "markdown",
   "metadata": {},
   "source": [
    "Criar uma variável para armazenar as modificações que fiz na vizualização do mapa"
   ]
  },
  {
   "cell_type": "code",
   "execution_count": 32,
   "metadata": {},
   "outputs": [
    {
     "data": {
      "application/vnd.jupyter.widget-view+json": {
       "model_id": "7d40b236a0fb45208319bf87b09f4385",
       "version_major": 2,
       "version_minor": 0
      },
      "text/plain": [
       "Map(center=['-18.08', '-54.57'], controls=(WidgetControl(options=['position', 'transparent_bg'], widget=HBox(c…"
      ]
     },
     "metadata": {},
     "output_type": "display_data"
    }
   ],
   "source": [
    "vis = {\n",
    "    'min':0,\n",
    "    'max':2000,\n",
    "    'palette':['9e0142', 'f88d52', 'ffffbf', '89d0a4', '5e4fa2']\n",
    "}\n",
    "Map = geemap.Map(location=('-18.08','-54.57'), zoom=5)\n",
    "Map.addLayer(srtm, vis, 'SRTM')\n",
    "Map"
   ]
  },
  {
   "attachments": {},
   "cell_type": "markdown",
   "metadata": {},
   "source": [
    "Como baixar a imagem?"
   ]
  },
  {
   "cell_type": "code",
   "execution_count": 36,
   "metadata": {},
   "outputs": [],
   "source": [
    "###definindo área de interesse:\n",
    "roi = ee.Geometry.Polygon(\n",
    "        [[[-36.221406308464054, -8.958929778704137],\n",
    "          [-36.221406308464054, -9.384629018466807],\n",
    "          [-35.564973202995304, -9.384629018466807],\n",
    "          [-35.564973202995304, -8.958929778704137]]]);\n",
    "\n",
    "#Função para download:\n",
    "task = ee.batch.Export.image.toDrive(image=srtm, # um objeto ee.Image.\n",
    "region=roi, # um objeto ee.Geometry.\n",
    "description='Srtm_alagoas',\n",
    "folder='MINICURSO_GEE',\n",
    "fileNamePrefix='Srtm_alagoas',\n",
    "scale=30,\n",
    "maxPixels=1e13,\n",
    "crs='EPSG:4674')  ###Sirgas2000\n",
    "#Iniciar o download\n",
    "task.start()"
   ]
  },
  {
   "attachments": {},
   "cell_type": "markdown",
   "metadata": {},
   "source": [
    "Fazendo analises estatísticas da região"
   ]
  },
  {
   "cell_type": "code",
   "execution_count": 39,
   "metadata": {},
   "outputs": [],
   "source": [
    "redutores = ee.Reducer.mean().combine(**{\n",
    "    'reducer2': ee.Reducer.median(),\n",
    "    'sharedInputs': True}).combine(**{\n",
    "    'reducer2': ee.Reducer.max(),\n",
    "    'sharedInputs': True\n",
    "})\n"
   ]
  },
  {
   "cell_type": "code",
   "execution_count": 40,
   "metadata": {},
   "outputs": [
    {
     "name": "stdout",
     "output_type": "stream",
     "text": [
      "{'elevation_max': 1253, 'elevation_mean': 232.2979688455095, 'elevation_median': 179.41726001852342}\n"
     ]
    }
   ],
   "source": [
    "estatistica_zonais = srtm.reduceRegion(**{\n",
    "'reducer': redutores,\n",
    "'geometry': roi,\n",
    "'scale':30,\n",
    "'bestEffort': True,\n",
    "'maxPixels':1e13,\n",
    "'tileScale':4\n",
    "})\n",
    "\n",
    "print(estatistica_zonais.getInfo())"
   ]
  },
  {
   "cell_type": "code",
   "execution_count": 41,
   "metadata": {},
   "outputs": [],
   "source": [
    "import pandas as pd\n",
    "import matplotlib.pyplot as pl "
   ]
  },
  {
   "cell_type": "code",
   "execution_count": 44,
   "metadata": {},
   "outputs": [
    {
     "data": {
      "text/html": [
       "<div>\n",
       "<style scoped>\n",
       "    .dataframe tbody tr th:only-of-type {\n",
       "        vertical-align: middle;\n",
       "    }\n",
       "\n",
       "    .dataframe tbody tr th {\n",
       "        vertical-align: top;\n",
       "    }\n",
       "\n",
       "    .dataframe thead th {\n",
       "        text-align: right;\n",
       "    }\n",
       "</style>\n",
       "<table border=\"1\" class=\"dataframe\">\n",
       "  <thead>\n",
       "    <tr style=\"text-align: right;\">\n",
       "      <th></th>\n",
       "      <th>elevação</th>\n",
       "      <th>valor</th>\n",
       "    </tr>\n",
       "  </thead>\n",
       "  <tbody>\n",
       "    <tr>\n",
       "      <th>0</th>\n",
       "      <td>elevation_max</td>\n",
       "      <td>1253.000000</td>\n",
       "    </tr>\n",
       "    <tr>\n",
       "      <th>1</th>\n",
       "      <td>elevation_mean</td>\n",
       "      <td>232.297969</td>\n",
       "    </tr>\n",
       "    <tr>\n",
       "      <th>2</th>\n",
       "      <td>elevation_median</td>\n",
       "      <td>179.417260</td>\n",
       "    </tr>\n",
       "  </tbody>\n",
       "</table>\n",
       "</div>"
      ],
      "text/plain": [
       "           elevação        valor\n",
       "0     elevation_max  1253.000000\n",
       "1    elevation_mean   232.297969\n",
       "2  elevation_median   179.417260"
      ]
     },
     "execution_count": 44,
     "metadata": {},
     "output_type": "execute_result"
    }
   ],
   "source": [
    "##Pegar as estatisticas e transformar em lista:\n",
    "stats_list = ee.List(estatistica_zonais).getInfo()\n",
    "##Extrair os valores dos itens ex. 'elevation_max': 1253, 'elevation_mean':\n",
    "data = list(stats_list.items())\n",
    "##Transformar em dicionario em DF:\n",
    "df = pd.DataFrame(data, columns=['elevação', 'valor'])\n",
    "df"
   ]
  },
  {
   "attachments": {},
   "cell_type": "markdown",
   "metadata": {},
   "source": [
    "Criando gráficos"
   ]
  },
  {
   "cell_type": "code",
   "execution_count": 54,
   "metadata": {},
   "outputs": [
    {
     "data": {
      "text/plain": [
       "<BarContainer object of 3 artists>"
      ]
     },
     "execution_count": 54,
     "metadata": {},
     "output_type": "execute_result"
    },
    {
     "data": {
      "image/png": "[encoded data removed]",
      "text/plain": [
       "<Figure size 800x600 with 1 Axes>"
      ]
     },
     "metadata": {},
     "output_type": "display_data"
    }
   ],
   "source": [
    "##Extrair dados do dataframe\n",
    "values= df['valor']\n",
    "labels = df['elevação']\n",
    "\n",
    "##Criar uma figura com tamanho 8x6 polegadas\n",
    "pl.figure(figsize=(8, 6))\n",
    "\n",
    "# Criar gráfico de colunas com os dados\n",
    "pl.bar(labels, values, color=\"blue\")\n"
   ]
  },
  {
   "cell_type": "code",
   "execution_count": 55,
   "metadata": {},
   "outputs": [
    {
     "data": {
      "text/plain": [
       "Text(0.5, 0, 'elevação')"
      ]
     },
     "execution_count": 55,
     "metadata": {},
     "output_type": "execute_result"
    },
    {
     "data": {
      "image/png": "[encoded data removed]",
      "text/plain": [
       "<Figure size 640x480 with 1 Axes>"
      ]
     },
     "metadata": {},
     "output_type": "display_data"
    }
   ],
   "source": [
    "# Adicionar rótulos e título ao gráfico\n",
    "pl.xlabel(\"elevação\")\n",
    "pl.ylabel(\"valor\")\n",
    "pl.legend([\"elevação\"])\n",
    "pl.title(\"Gráfico de Colunas\")\n",
    "##Salvar gráfico\n",
    "pl.savefig('Gráfico_barra.png')\n",
    "pl.show()"
   ]
  }
 ],
 "metadata": {
  "kernelspec": {
   "display_name": "base",
   "language": "python",
   "name": "python3"
  },
  "language_info": {
   "codemirror_mode": {
    "name": "ipython",
    "version": 3
   },
   "file_extension": ".py",
   "mimetype": "text/x-python",
   "name": "python",
   "nbconvert_exporter": "python",
   "pygments_lexer": "ipython3",
   "version": "3.9.13"
  },
  "orig_nbformat": 4
 },
 "nbformat": 4,
 "nbformat_minor": 2
}
